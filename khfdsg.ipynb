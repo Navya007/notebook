{
 "cells": [
  {
   "cell_type": "code",
   "execution_count": 59,
   "metadata": {},
   "outputs": [],
   "source": [
    "# use natural language toolkit\n",
    "import nltk\n",
    "from nltk.stem.lancaster import LancasterStemmer\n",
    "import os\n",
    "import json\n",
    "import datetime\n",
    "stemmer = LancasterStemmer()"
   ]
  },
  {
   "cell_type": "code",
   "execution_count": 60,
   "metadata": {},
   "outputs": [
    {
     "name": "stdout",
     "output_type": "stream",
     "text": [
      "6 sentences in training data\n"
     ]
    }
   ],
   "source": [
    "# 3 classes of training data\n",
    "training_data = []\n",
    "training_data.append({\"class\":'Advantages',\"sentence\":'Because tasks can be completed within the browser without communicating with the server, JavaScript can create a smooth “desktop-like” experience for the end user'})\n",
    "training_data.append({\"class\":'Advantages',\"sentence\":'From drag-and-drop blocks to stylized sliders, there are numerous ways that JavaScript can be used to enhance a website’s UI/UX.'})\n",
    "training_data.append({\"class\":'Advantages',\"sentence\":'TObjects can inherit from other objects, which makes JavaScript so simple, powerful, and great for dynamic applications.'})\n",
    "training_data.append({\"class\":'Advantages',\"sentence\":'javascript has the ability to inherit parent class behaviour to child class'})\n",
    "\n",
    "training_data.append({\"class\":'Disadvantages',\"sentence\":' Because the code executes on the users’ computer, in some cases it can be exploited for malicious purposes. This is one reason some people choose to disable Javascript'})\n",
    "training_data.append({\"class\":'Disadvantages',\"sentence\":'JavaScript is sometimes interpreted differently by different browsers. Whereas server-side scripts will always produce the same output, client-side scripts can be a little unpredictable. Don’t be overly concerned by this though - as long as you test your script in all the major browsers you should be safe. Also, there are services out there that will allow you to test your code automatically on check in of an update to make sure all browsers support your code.'})\n",
    "\n",
    "#training_data.append({\"class\":'Differences',\"sentence\":' A constructor function instantiates an instance via the “new” keyword. This new instance inherits properties from a parent class.'})\n",
    "#training_data.append({\"class\":'Differences',\"sentence\":' An instance is created by cloning an existing object that serves as a prototype. This instance—often instantiated using a factory function or “Object.create()”—can benefit from selective inheritance from many different objects'})\n",
    "print (\"%s sentences in training data\" % len(training_data))"
   ]
  },
  {
   "cell_type": "code",
   "execution_count": 62,
   "metadata": {},
   "outputs": [
    {
     "name": "stdout",
     "output_type": "stream",
     "text": [
      "Corpus words and counts: {'becaus': 2, 'task': 1, 'can': 6, 'be': 6, 'complet': 1, 'within': 1, 'the': 8, 'brows': 4, 'without': 1, 'commun': 1, 'with': 1, 'serv': 2, ',': 8, 'javascrib': 6, 'cre': 1, 'a': 3, 'smoo': 1, '“': 1, 'desktop-like': 1, '”': 1, 'expery': 1, 'for': 3, 'end': 1, 'us': 3, 'from': 2, 'drag-and-drop': 1, 'block': 1, 'to': 7, 'styl': 1, 'slid': 1, 'ther': 3, 'ar': 2, 'num': 1, 'way': 1, 'that': 2, 'enh': 1, 'websit': 1, '’': 3, 's': 1, 'ui/ux': 1, '.': 7, 'tobject': 1, 'inherit': 2, 'oth': 1, 'object': 1, 'which': 1, 'mak': 2, 'so': 1, 'simpl': 1, 'pow': 1, 'and': 1, 'gre': 1, 'dynam': 1, 'apply': 1, 'has': 1, 'abl': 1, 'par': 1, 'class': 2, 'behavio': 1, 'child': 1, 'cod': 3, 'execut': 1, 'on': 3, 'comput': 1, 'in': 3, 'som': 2, 'cas': 1, 'it': 1, 'exploit': 1, 'malicy': 1, 'purpos': 1, 'thi': 2, 'is': 2, 'reason': 1, 'peopl': 1, 'choos': 1, 'dis': 1, 'sometim': 1, 'interpret': 1, 'diff': 2, 'by': 2, 'wherea': 1, 'server-side': 1, 'scripts': 2, 'wil': 2, 'alway': 1, 'produc': 1, 'sam': 1, 'output': 1, 'client-side': 1, 'littl': 1, 'unpredict': 1, 'don': 1, 't': 1, 'ov': 1, 'concern': 1, 'though': 1, '-': 1, 'as': 2, 'long': 1, 'you': 3, 'test': 2, 'yo': 3, 'script': 1, 'al': 2, 'maj': 1, 'should': 1, 'saf': 1, 'also': 1, 'out': 1, 'allow': 1, 'autom': 1, 'check': 1, 'of': 1, 'an': 1, 'upd': 1, 'sur': 1, 'support': 1}\n",
      "Class words: {'Disadvantages': ['becaus', 'the', 'cod', 'execut', 'on', 'the', 'us', '’', 'comput', ',', 'in', 'som', 'cas', 'it', 'can', 'be', 'exploit', 'for', 'malicy', 'purpos', '.', 'thi', 'is', 'on', 'reason', 'som', 'peopl', 'choos', 'to', 'dis', 'javascrib', 'javascrib', 'is', 'sometim', 'interpret', 'diff', 'by', 'diff', 'brows', '.', 'wherea', 'server-side', 'scripts', 'wil', 'alway', 'produc', 'the', 'sam', 'output', ',', 'client-side', 'scripts', 'can', 'be', 'a', 'littl', 'unpredict', '.', 'don', '’', 't', 'be', 'ov', 'concern', 'by', 'thi', 'though', '-', 'as', 'long', 'as', 'you', 'test', 'yo', 'script', 'in', 'al', 'the', 'maj', 'brows', 'you', 'should', 'be', 'saf', '.', 'also', ',', 'ther', 'ar', 'serv', 'out', 'ther', 'that', 'wil', 'allow', 'you', 'to', 'test', 'yo', 'cod', 'autom', 'on', 'check', 'in', 'of', 'an', 'upd', 'to', 'mak', 'sur', 'al', 'brows', 'support', 'yo', 'cod', '.'], 'Advantages': ['becaus', 'task', 'can', 'be', 'complet', 'within', 'the', 'brows', 'without', 'commun', 'with', 'the', 'serv', ',', 'javascrib', 'can', 'cre', 'a', 'smoo', '“', 'desktop-like', '”', 'expery', 'for', 'the', 'end', 'us', 'from', 'drag-and-drop', 'block', 'to', 'styl', 'slid', ',', 'ther', 'ar', 'num', 'way', 'that', 'javascrib', 'can', 'be', 'us', 'to', 'enh', 'a', 'websit', '’', 's', 'ui/ux', '.', 'tobject', 'can', 'inherit', 'from', 'oth', 'object', ',', 'which', 'mak', 'javascrib', 'so', 'simpl', ',', 'pow', ',', 'and', 'gre', 'for', 'dynam', 'apply', '.', 'javascrib', 'has', 'the', 'abl', 'to', 'inherit', 'par', 'class', 'behavio', 'to', 'child', 'class']}\n"
     ]
    }
   ],
   "source": [
    "# capture unique stemmed words in the training corpus\n",
    "class_words={}\n",
    "corpus_words = {}\n",
    "classes = list(set([a['class'] for a in training_data]))\n",
    "for c in classes:\n",
    "    class_words[c] = []\n",
    "    \n",
    "for data in training_data:\n",
    "    # tokenize each sentence into words\n",
    "    for word in nltk.word_tokenize(data['sentence']):\n",
    "        # ignore a few things\n",
    "        if word not in [\"?\", \"'s\"]:\n",
    "            # stem and lowercase each word\n",
    "            stemmed_word = stemmer.stem(word.lower())\n",
    "            if stemmed_word not in corpus_words:\n",
    "                corpus_words[stemmed_word] = 1\n",
    "            else:\n",
    "                corpus_words[stemmed_word] += 1\n",
    "                \n",
    "            class_words[data['class']].extend([stemmed_word])\n",
    "\n",
    "# we now have each word and the number of occurances of the word in our training corpus (the word's commonality)\n",
    "print (\"Corpus words and counts: %s\" % corpus_words)\n",
    "# also we have all words in each class\n",
    "print (\"Class words: %s\" % class_words)"
   ]
  },
  {
   "cell_type": "code",
   "execution_count": 63,
   "metadata": {},
   "outputs": [],
   "source": [
    "# we can now calculate the Naive Bayes score for a new sentence\n",
    "sentence = \"javascript is server-side programming language\"\n",
    "\n",
    "# calculate a score for a given class\n",
    "def calculate_class_score(sentence, class_name):\n",
    "    score = 0\n",
    "    for word in nltk.word_tokenize(sentence):\n",
    "        if word in class_words[class_name]:\n",
    "            score += 1\n",
    "    return score"
   ]
  },
  {
   "cell_type": "code",
   "execution_count": 64,
   "metadata": {},
   "outputs": [
    {
     "name": "stdout",
     "output_type": "stream",
     "text": [
      "Class: Disadvantages  Score: 2\n",
      "Class: Advantages  Score: 0\n"
     ]
    }
   ],
   "source": [
    "# now we can find the class with the highest score\n",
    "for c in class_words.keys():\n",
    "    print (\"Class: %s  Score: %s\" % (c, calculate_class_score(sentence, c)))"
   ]
  },
  {
   "cell_type": "code",
   "execution_count": 65,
   "metadata": {},
   "outputs": [],
   "source": [
    "# calculate a score for a given class taking into account word commonality\n",
    "def calculate_class_score_commonality(sentence, class_name):\n",
    "    score = 0\n",
    "    for word in nltk.word_tokenize(sentence):\n",
    "        if word in class_words[class_name]:\n",
    "            score += (1 / corpus_words[word])\n",
    "    return score"
   ]
  },
  {
   "cell_type": "code",
   "execution_count": 66,
   "metadata": {},
   "outputs": [
    {
     "name": "stdout",
     "output_type": "stream",
     "text": [
      "Class: Disadvantages  Score: 1.5\n",
      "Class: Advantages  Score: 0\n"
     ]
    }
   ],
   "source": [
    "# now we can find the class with the highest score\n",
    "for c in class_words.keys():\n",
    "    print (\"Class: %s  Score: %s\" % (c, calculate_class_score_commonality(sentence, c)))"
   ]
  },
  {
   "cell_type": "code",
   "execution_count": 67,
   "metadata": {},
   "outputs": [],
   "source": [
    "def find_class(sentence):\n",
    "    high_class = None\n",
    "    high_score = 0\n",
    "    for c in class_words.keys():\n",
    "        score = calculate_class_score_commonality(sentence, c)\n",
    "        if score > high_score:\n",
    "            high_class = c\n",
    "            high_score = score\n",
    "    return high_class, high_score"
   ]
  },
  {
   "cell_type": "code",
   "execution_count": 68,
   "metadata": {},
   "outputs": [
    {
     "data": {
      "text/plain": [
       "('Advantages', 1.0)"
      ]
     },
     "execution_count": 68,
     "metadata": {},
     "output_type": "execute_result"
    }
   ],
   "source": [
    "find_class(\"javascript inherits properties from parent class\")"
   ]
  },
  {
   "cell_type": "code",
   "execution_count": null,
   "metadata": {},
   "outputs": [],
   "source": []
  }
 ],
 "metadata": {
  "kernelspec": {
   "display_name": "Python 3",
   "language": "python",
   "name": "python3"
  },
  "language_info": {
   "codemirror_mode": {
    "name": "ipython",
    "version": 3
   },
   "file_extension": ".py",
   "mimetype": "text/x-python",
   "name": "python",
   "nbconvert_exporter": "python",
   "pygments_lexer": "ipython3",
   "version": "3.6.5"
  }
 },
 "nbformat": 4,
 "nbformat_minor": 2
}

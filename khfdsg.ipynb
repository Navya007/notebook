{
 "cells": [
  {
   "cell_type": "code",
   "execution_count": 42,
   "metadata": {},
   "outputs": [],
   "source": [
    "# use natural language toolkit\n",
    "import nltk\n",
    "from nltk.stem.lancaster import LancasterStemmer\n",
    "import os\n",
    "import json\n",
    "import datetime\n",
    "stemmer = LancasterStemmer()"
   ]
  },
  {
   "cell_type": "code",
   "execution_count": 43,
   "metadata": {},
   "outputs": [
    {
     "name": "stdout",
     "output_type": "stream",
     "text": [
      "24 sentences in training data\n"
     ]
    }
   ],
   "source": [
    "# 3 classes of training data\n",
    "training_data = []\n",
    "training_data.append({\"class\":'Advantages',\"sentence\":'Because tasks can be completed within the browser without communicating with the server, JavaScript can create a smooth “desktop-like” experience for the end user'})\n",
    "training_data.append({\"class\":'Advantages',\"sentence\":'From drag-and-drop blocks to stylized sliders, there are numerous ways that JavaScript can be used to enhance a website’s UI/UX.'})\n",
    "training_data.append({\"class\":'Advantages',\"sentence\":'TObjects can inherit from other objects, which makes JavaScript so simple, powerful, and great for dynamic applications.'})\n",
    "training_data.append({\"class\":'Advantages',\"sentence\":'js can be executed on client-side also'})\n",
    "training_data.append({\"class\":'Advantages',\"sentence\":'javascript is fast.'})\n",
    "training_data.append({\"class\":'Advantages',\"sentence\":'javascript` has rich interface'})\n",
    "training_data.append({\"class\":'Advantages',\"sentence\":'js has many libraries'})\n",
    "training_data.append({\"class\":'Advantages',\"sentence\":'JavaScript small bit of code you can test easily on Console Panel.'})\n",
    "training_data.append({\"class\":'Advantages',\"sentence\":'JavaScript syntaxs are easy and flexible for the developers.'})\n",
    "training_data.append({\"class\":'Advantages',\"sentence\":'The biggest advantages to a JavaScript having a ability to support all modern browser and produce the same result.'})\n",
    "training_data.append({\"class\":'Advantages',\"sentence\":'JS has rich interface'})\n",
    "training_data.append({\"class\":'Advantages',\"sentence\":'javascript executes on both client-side & server side'})\n",
    "training_data.append({\"class\":'Advantages',\"sentence\":'javascript has the ability to inherit parent class behaviour to child class'})\n",
    "training_data.append({\"class\":'Disadvantages',\"sentence\":'problem of clientside security'})\n",
    "training_data.append({\"class\":'Disadvantages',\"sentence\":'javascript is having secuirty related issues'})\n",
    "training_data.append({\"class\":'Disadvantages',\"sentence\": 'JavaScripts main weakness is security. Look for answers on how it can be exploited. A secondary weakness is JavaScripts ubiquity and versatility—it can be a double-edged sword in that theres a lot of room for programming quirks that can lead to inconsistent performance across different platforms.'})\n",
    "training_data.append({\"class\":'Disadvantages',\"sentence\":'main weekness of the js is security'})\n",
    "training_data.append({\"class\":'Disadvantages',\"sentence\":'security,ubiquity,versatility,clientside security'})\n",
    "training_data.append({\"class\":'Disadvantages',\"sentence\":' Because the code executes on the users’ computer, in some cases it can be exploited for malicious purposes. This is one reason some people choose to disable Javascript'})\n",
    "training_data.append({\"class\":'Disadvantages',\"sentence\":'JavaScript is sometimes interpreted differently by different browsers. Whereas server-side scripts will always produce the same output, client-side scripts can be a little unpredictable. Don’t be overly concerned by this though - as long as you test your script in all the major browsers you should be safe. Also, there are services out there that will allow you to test your code automatically on check in of an update to make sure all browsers support your code.'})\n",
    "training_data.append({\"class\":'Differences',\"sentence\":' A constructor function instantiates an instance via the “new” keyword. This new instance inherits properties from a parent class.'})\n",
    "training_data.append({\"class\":'Differences',\"sentence\": 'ClassInheritance: instances inherit from classes (like a blueprint — a description of the class), and create sub-class relationships prototypal Instances may be composed from many different objects, allowing for easy selective inheritance.'})\n",
    "training_data.append({\"class\":'Differences',\"sentence\":'Class Inheritance: instances inherit from classes (like a blueprint — a description of the class), and create sub-class relationships: hierarchical class taxonomies. Instances are typically instantiated via constructor functions with the new keyword. Class inheritance may or may not use the class keyword from ES6.    Prototypal Inheritance: instances inherit directly from other objects. Instances are typically instantiated via factory functions or Object.create(). Instances may be composed from many different objects, allowing for easy selective inheritance.'})\n",
    "training_data.append({\"class\":'Differences',\"sentence\": 'Classical Inheritance: A constructor function instantiates an instance via the “new” keyword. This new instance inherits properties from a parent class.  Prototypal Inheritance: An instance is created by cloning an existing object that serves as a prototype. This instance—often instantiated using a factory function or “Object.create()”—can benefit from selective inheritance from many different objects.'})\n",
    "#training_data.append({\"class\":'Differences',\"sentence\":' A constructor function instantiates an instance via the “new” keyword. This new instance inherits properties from a parent class.'})\n",
    "#training_data.append({\"class\":'Differences',\"sentence\":' An instance is created by cloning an existing object that serves as a prototype. This instance—often instantiated using a factory function or “Object.create()”—can benefit from selective inheritance from many different objects'})\n",
    "print (\"%s sentences in training data\" % len(training_data))"
   ]
  },
  {
   "cell_type": "code",
   "execution_count": 44,
   "metadata": {},
   "outputs": [
    {
     "name": "stdout",
     "output_type": "stream",
     "text": [
      "Corpus words and counts: {'becaus': 2, 'task': 1, 'can': 11, 'be': 11, 'complet': 1, 'within': 1, 'the': 18, 'brows': 5, 'without': 1, 'commun': 1, 'with': 2, 'serv': 4, ',': 15, 'javascrib': 15, 'cre': 4, 'a': 18, 'smoo': 1, '“': 4, 'desktop-like': 1, '”': 4, 'expery': 1, 'for': 8, 'end': 1, 'us': 5, 'from': 12, 'drag-and-drop': 1, 'block': 1, 'to': 10, 'styl': 1, 'slid': 1, 'ther': 4, 'ar': 5, 'num': 1, 'way': 1, 'that': 5, 'enh': 1, 'websit': 1, '’': 3, 's': 1, 'ui/ux': 1, '.': 27, 'tobject': 1, 'inherit': 15, 'oth': 2, 'object': 6, 'which': 1, 'mak': 2, 'so': 1, 'simpl': 1, 'pow': 1, 'and': 6, 'gre': 1, 'dynam': 1, 'apply': 1, 'js': 4, 'execut': 3, 'on': 7, 'client-side': 3, 'also': 2, 'is': 8, 'fast': 1, '`': 1, 'has': 4, 'rich': 2, 'interfac': 2, 'many': 4, 'libr': 1, 'smal': 1, 'bit': 1, 'of': 7, 'cod': 4, 'you': 4, 'test': 3, 'easy': 4, 'consol': 1, 'panel': 1, 'syntax': 1, 'flex': 1, 'develop': 1, 'biggest': 1, 'adv': 1, 'hav': 2, 'abl': 2, 'support': 2, 'al': 3, 'modern': 1, 'produc': 2, 'sam': 2, 'result': 1, 'both': 1, '&': 1, 'sid': 1, 'par': 3, 'class': 13, 'behavio': 1, 'child': 1, 'problem': 1, 'clientsid': 2, 'sec': 5, 'secuirty': 1, 'rel': 3, 'issu': 1, 'main': 2, 'weak': 2, 'look': 1, 'answ': 1, 'how': 1, 'it': 2, 'exploit': 2, 'second': 1, 'ub': 2, 'versatility—it': 1, 'double-edged': 1, 'sword': 1, 'in': 4, 'lot': 1, 'room': 1, 'program': 1, 'quirk': 1, 'lead': 1, 'inconsist': 1, 'perform': 1, 'across': 1, 'diff': 6, 'platform': 1, 'week': 1, 'versatil': 1, 'comput': 1, 'som': 2, 'cas': 1, 'malicy': 1, 'purpos': 1, 'thi': 5, 'reason': 1, 'peopl': 1, 'choos': 1, 'dis': 1, 'sometim': 1, 'interpret': 1, 'by': 3, 'wherea': 1, 'server-side': 1, 'scripts': 2, 'wil': 2, 'alway': 1, 'output': 1, 'littl': 1, 'unpredict': 1, 'don': 1, 't': 1, 'ov': 1, 'concern': 1, 'though': 1, '-': 1, 'as': 3, 'long': 1, 'yo': 3, 'script': 1, 'maj': 1, 'should': 1, 'saf': 1, 'out': 1, 'allow': 3, 'autom': 1, 'check': 1, 'an': 5, 'upd': 1, 'sur': 1, 'construct': 3, 'funct': 5, 'instanty': 5, 'inst': 12, 'via': 4, 'new': 5, 'keyword': 4, 'property': 2, 'classinherit': 1, ':': 6, '(': 4, 'lik': 2, 'blueprint': 2, '—': 2, 'describ': 2, ')': 4, 'sub-class': 2, 'prototyp': 4, 'may': 4, 'compos': 2, 'select': 3, 'hierarch': 1, 'taxonom': 1, 'typ': 2, 'or': 3, 'not': 1, 'es6': 1, 'direct': 1, 'fact': 2, 'object.create': 2, 'clon': 1, 'ex': 1, 'instance—often': 1, '—can': 1, 'benefit': 1}\n",
      "Class words: {'Differences': ['a', 'construct', 'funct', 'instanty', 'an', 'inst', 'via', 'the', '“', 'new', '”', 'keyword', '.', 'thi', 'new', 'inst', 'inherit', 'property', 'from', 'a', 'par', 'class', '.', 'classinherit', ':', 'inst', 'inherit', 'from', 'class', '(', 'lik', 'a', 'blueprint', '—', 'a', 'describ', 'of', 'the', 'class', ')', ',', 'and', 'cre', 'sub-class', 'rel', 'prototyp', 'inst', 'may', 'be', 'compos', 'from', 'many', 'diff', 'object', ',', 'allow', 'for', 'easy', 'select', 'inherit', '.', 'class', 'inherit', ':', 'inst', 'inherit', 'from', 'class', '(', 'lik', 'a', 'blueprint', '—', 'a', 'describ', 'of', 'the', 'class', ')', ',', 'and', 'cre', 'sub-class', 'rel', ':', 'hierarch', 'class', 'taxonom', '.', 'inst', 'ar', 'typ', 'instanty', 'via', 'construct', 'funct', 'with', 'the', 'new', 'keyword', '.', 'class', 'inherit', 'may', 'or', 'may', 'not', 'us', 'the', 'class', 'keyword', 'from', 'es6', '.', 'prototyp', 'inherit', ':', 'inst', 'inherit', 'direct', 'from', 'oth', 'object', '.', 'inst', 'ar', 'typ', 'instanty', 'via', 'fact', 'funct', 'or', 'object.create', '(', ')', '.', 'inst', 'may', 'be', 'compos', 'from', 'many', 'diff', 'object', ',', 'allow', 'for', 'easy', 'select', 'inherit', '.', 'class', 'inherit', ':', 'a', 'construct', 'funct', 'instanty', 'an', 'inst', 'via', 'the', '“', 'new', '”', 'keyword', '.', 'thi', 'new', 'inst', 'inherit', 'property', 'from', 'a', 'par', 'class', '.', 'prototyp', 'inherit', ':', 'an', 'inst', 'is', 'cre', 'by', 'clon', 'an', 'ex', 'object', 'that', 'serv', 'as', 'a', 'prototyp', '.', 'thi', 'instance—often', 'instanty', 'us', 'a', 'fact', 'funct', 'or', '“', 'object.create', '(', ')', '”', '—can', 'benefit', 'from', 'select', 'inherit', 'from', 'many', 'diff', 'object', '.'], 'Advantages': ['becaus', 'task', 'can', 'be', 'complet', 'within', 'the', 'brows', 'without', 'commun', 'with', 'the', 'serv', ',', 'javascrib', 'can', 'cre', 'a', 'smoo', '“', 'desktop-like', '”', 'expery', 'for', 'the', 'end', 'us', 'from', 'drag-and-drop', 'block', 'to', 'styl', 'slid', ',', 'ther', 'ar', 'num', 'way', 'that', 'javascrib', 'can', 'be', 'us', 'to', 'enh', 'a', 'websit', '’', 's', 'ui/ux', '.', 'tobject', 'can', 'inherit', 'from', 'oth', 'object', ',', 'which', 'mak', 'javascrib', 'so', 'simpl', ',', 'pow', ',', 'and', 'gre', 'for', 'dynam', 'apply', '.', 'js', 'can', 'be', 'execut', 'on', 'client-side', 'also', 'javascrib', 'is', 'fast', '.', 'javascrib', '`', 'has', 'rich', 'interfac', 'js', 'has', 'many', 'libr', 'javascrib', 'smal', 'bit', 'of', 'cod', 'you', 'can', 'test', 'easy', 'on', 'consol', 'panel', '.', 'javascrib', 'syntax', 'ar', 'easy', 'and', 'flex', 'for', 'the', 'develop', '.', 'the', 'biggest', 'adv', 'to', 'a', 'javascrib', 'hav', 'a', 'abl', 'to', 'support', 'al', 'modern', 'brows', 'and', 'produc', 'the', 'sam', 'result', '.', 'js', 'has', 'rich', 'interfac', 'javascrib', 'execut', 'on', 'both', 'client-side', '&', 'serv', 'sid', 'javascrib', 'has', 'the', 'abl', 'to', 'inherit', 'par', 'class', 'behavio', 'to', 'child', 'class'], 'Disadvantages': ['problem', 'of', 'clientsid', 'sec', 'javascrib', 'is', 'hav', 'secuirty', 'rel', 'issu', 'javascrib', 'main', 'weak', 'is', 'sec', '.', 'look', 'for', 'answ', 'on', 'how', 'it', 'can', 'be', 'exploit', '.', 'a', 'second', 'weak', 'is', 'javascrib', 'ub', 'and', 'versatility—it', 'can', 'be', 'a', 'double-edged', 'sword', 'in', 'that', 'ther', 'a', 'lot', 'of', 'room', 'for', 'program', 'quirk', 'that', 'can', 'lead', 'to', 'inconsist', 'perform', 'across', 'diff', 'platform', '.', 'main', 'week', 'of', 'the', 'js', 'is', 'sec', 'sec', ',', 'ub', ',', 'versatil', ',', 'clientsid', 'sec', 'becaus', 'the', 'cod', 'execut', 'on', 'the', 'us', '’', 'comput', ',', 'in', 'som', 'cas', 'it', 'can', 'be', 'exploit', 'for', 'malicy', 'purpos', '.', 'thi', 'is', 'on', 'reason', 'som', 'peopl', 'choos', 'to', 'dis', 'javascrib', 'javascrib', 'is', 'sometim', 'interpret', 'diff', 'by', 'diff', 'brows', '.', 'wherea', 'server-side', 'scripts', 'wil', 'alway', 'produc', 'the', 'sam', 'output', ',', 'client-side', 'scripts', 'can', 'be', 'a', 'littl', 'unpredict', '.', 'don', '’', 't', 'be', 'ov', 'concern', 'by', 'thi', 'though', '-', 'as', 'long', 'as', 'you', 'test', 'yo', 'script', 'in', 'al', 'the', 'maj', 'brows', 'you', 'should', 'be', 'saf', '.', 'also', ',', 'ther', 'ar', 'serv', 'out', 'ther', 'that', 'wil', 'allow', 'you', 'to', 'test', 'yo', 'cod', 'autom', 'on', 'check', 'in', 'of', 'an', 'upd', 'to', 'mak', 'sur', 'al', 'brows', 'support', 'yo', 'cod', '.']}\n"
     ]
    }
   ],
   "source": [
    "# capture unique stemmed words in the training corpus\n",
    "class_words={}\n",
    "corpus_words = {}\n",
    "classes = list(set([a['class'] for a in training_data]))\n",
    "for c in classes:\n",
    "    class_words[c] = []\n",
    "    \n",
    "for data in training_data:\n",
    "    # tokenize each sentence into words\n",
    "    for word in nltk.word_tokenize(data['sentence']):\n",
    "        # ignore a few things\n",
    "        if word not in [\"?\", \"'s\"]:\n",
    "            # stem and lowercase each word\n",
    "            stemmed_word = stemmer.stem(word.lower())\n",
    "            if stemmed_word not in corpus_words:\n",
    "                corpus_words[stemmed_word] = 1\n",
    "            else:\n",
    "                corpus_words[stemmed_word] += 1\n",
    "                \n",
    "            class_words[data['class']].extend([stemmed_word])\n",
    "\n",
    "# we now have each word and the number of occurances of the word in our training corpus (the word's commonality)\n",
    "print (\"Corpus words and counts: %s\" % corpus_words)\n",
    "# also we have all words in each class\n",
    "print (\"Class words: %s\" % class_words)"
   ]
  },
  {
   "cell_type": "code",
   "execution_count": 45,
   "metadata": {},
   "outputs": [],
   "source": [
    "# we can now calculate the Naive Bayes score for a new sentence\n",
    "#sentence = \"javascript is server-side programming language\"\n",
    "sentence = \"From drag-and-drop blocks to stylized sliders, there are numerous ways that JavaScript can be used to enhance a website’s UI/UX\"\n",
    "\n",
    "# calculate a score for a given class\n",
    "def calculate_class_score(sentence, class_name):\n",
    "    score = 0\n",
    "    for word in nltk.word_tokenize(sentence):\n",
    "        if word in class_words[class_name]:\n",
    "            score += 1\n",
    "    return score"
   ]
  },
  {
   "cell_type": "code",
   "execution_count": 48,
   "metadata": {},
   "outputs": [
    {
     "name": "stdout",
     "output_type": "stream",
     "text": [
      "Class: Differences  Score: 4\n",
      "Class: Advantages  Score: 10\n",
      "Class: Disadvantages  Score: 8\n"
     ]
    }
   ],
   "source": [
    "# now we can find the class with the highest score\n",
    "for c in class_words.keys():\n",
    "    print (\"Class: %s  Score: %s\" % (c, calculate_class_score(sentence, c)))"
   ]
  },
  {
   "cell_type": "code",
   "execution_count": 49,
   "metadata": {},
   "outputs": [],
   "source": [
    "# calculate a score for a given class taking into account word commonality\n",
    "def calculate_class_score_commonality(sentence, class_name):\n",
    "    score = 0\n",
    "    for word in nltk.word_tokenize(sentence):\n",
    "        if word in class_words[class_name]:\n",
    "            score += (1 / corpus_words[word])\n",
    "    return score"
   ]
  },
  {
   "cell_type": "code",
   "execution_count": 50,
   "metadata": {},
   "outputs": [
    {
     "name": "stdout",
     "output_type": "stream",
     "text": [
      "Class: Differences  Score: 0.4131313131313131\n",
      "Class: Advantages  Score: 3.0373737373737373\n",
      "Class: Disadvantages  Score: 1.0373737373737375\n"
     ]
    }
   ],
   "source": [
    "# now we can find the class with the highest score\n",
    "for c in class_words.keys():\n",
    "    print (\"Class: %s  Score: %s\" % (c, calculate_class_score_commonality(sentence, c)))"
   ]
  },
  {
   "cell_type": "code",
   "execution_count": 51,
   "metadata": {},
   "outputs": [],
   "source": [
    "def find_class(sentence):\n",
    "    high_class = None\n",
    "    high_score = 0\n",
    "    for c in class_words.keys():\n",
    "        score = calculate_class_score_commonality(sentence, c)\n",
    "        if score > high_score:\n",
    "            high_class = c\n",
    "            high_score = score\n",
    "    return high_class, high_score"
   ]
  },
  {
   "cell_type": "code",
   "execution_count": 56,
   "metadata": {},
   "outputs": [
    {
     "data": {
      "text/plain": [
       "('Advantages', 5.030327080327081)"
      ]
     },
     "execution_count": 56,
     "metadata": {},
     "output_type": "execute_result"
    }
   ],
   "source": [
    "find_class(\"The biggest advantages to a JavaScript having a ability to support all modern browser and produce the same result.JavaScript small bit of code you can test easily on Console Panel.\")"
   ]
  },
  {
   "cell_type": "code",
   "execution_count": null,
   "metadata": {},
   "outputs": [],
   "source": []
  },
  {
   "cell_type": "code",
   "execution_count": null,
   "metadata": {},
   "outputs": [],
   "source": []
  }
 ],
 "metadata": {
  "kernelspec": {
   "display_name": "Python 3",
   "language": "python",
   "name": "python3"
  },
  "language_info": {
   "codemirror_mode": {
    "name": "ipython",
    "version": 3
   },
   "file_extension": ".py",
   "mimetype": "text/x-python",
   "name": "python",
   "nbconvert_exporter": "python",
   "pygments_lexer": "ipython3",
   "version": "3.6.5"
  }
 },
 "nbformat": 4,
 "nbformat_minor": 2
}

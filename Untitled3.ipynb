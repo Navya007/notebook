{
 "cells": [
  {
   "cell_type": "code",
   "execution_count": 6,
   "metadata": {},
   "outputs": [],
   "source": [
    "# use natural language toolkit\n",
    "import nltk\n",
    "from nltk.stem.lancaster import LancasterStemmer\n",
    "import os\n",
    "import json\n",
    "import datetime\n",
    "stemmer = LancasterStemmer()"
   ]
  },
  {
   "cell_type": "code",
   "execution_count": 9,
   "metadata": {},
   "outputs": [
    {
     "name": "stdout",
     "output_type": "stream",
     "text": [
      "7 sentences in training data\n"
     ]
    }
   ],
   "source": [
    "# 3 classes of training data\n",
    "training_data = []\n",
    "training_data.append({\"class\":'Advantages', \"sentence\":'Because tasks can be completed within the browser without communicating with the server, JavaScript can create a smooth “desktop-like” experience for the end user'})\n",
    "training_data.append({\"class\":'Advantages', \"sentence\":'From drag-and-drop blocks to stylized sliders, there are numerous ways that JavaScript can be used to enhance a website’s UI/UX.'})\n",
    "training_data.append({\"class\":'Advantages', \"sentence\":'TObjects can inherit from other objects, which makes JavaScript so simple, powerful, and great for dynamic applications.'})\n",
    "training_data.append({\"class\":'Disadvantages',\"sentence\":' Because the code executes on the users’ computer, in some cases it can be exploited for malicious purposes. This is one reason some people choose to disable Javascript'})\n",
    "training_data.append({\"class\":'Disadvantages',\"sentence\":'JavaScript is sometimes interpreted differently by different browsers. Whereas server-side scripts will always produce the same output, client-side scripts can be a little unpredictable. Don’t be overly concerned by this though - as long as you test your script in all the major browsers you should be safe. Also, there are services out there that will allow you to test your code automatically on check in of an update to make sure all browsers support your code.'})\n",
    "training_data.append({\"class\":'Differences',\"sentence\":' A constructor function instantiates an instance via the “new” keyword. This new instance inherits properties from a parent class.'})\n",
    "training_data.append({\"class\":'Differences',\"sentence\":' An instance is created by cloning an existing object that serves as a prototype. This instance—often instantiated using a factory function or “Object.create()”—can benefit from selective inheritance from many different objects'})\n",
    "print (\"%s sentences in training data\" % len(training_data))"
   ]
  },
  {
   "cell_type": "code",
   "execution_count": 19,
   "metadata": {},
   "outputs": [
    {
     "name": "stdout",
     "output_type": "stream",
     "text": [
      "7 documents\n",
      "3 classes ['Differences', 'Disadvantages', 'Advantages']\n",
      "135 unique stemmed words ['and', 'new', 'alway', 'tobject', 'serv', 'execut', 'class', 'should', '(', 'us', 'way', 'gre', 'num', 'output', 'object', 'so', 'of', ')', 'object.create', 'expery', 'allow', ',', 'via', 'oth', 'an', '’', 'autom', 'unpredict', 'by', 'can', 'exploit', 'server-side', 'instance—often', 'clon', '“', 'fact', 'complet', 'simpl', 'par', 'smoo', 'on', 'though', 'cod', 'dynam', 'produc', '—can', 'select', 'to', 'inst', 'reason', 'diff', 'you', 'slid', 'ex', 'wil', 'comput', 'check', 'or', '-', 'inherit', 'commun', 'script', 'apply', 'cre', 'don', 'concern', 'dis', 'long', 'keyword', 'styl', 'client-side', 'maj', 'cas', 'javascrib', 'yo', 'sur', 'interpret', 'pow', 'within', 'block', 'wherea', 'benefit', 'becaus', 'littl', 'end', 'that', 't', 'drag-and-drop', 'which', 'the', 'instanty', 'as', 'saf', 'ui/ux', 'construct', 'it', 'also', 'upd', 'al', 'sam', 'som', 'is', 'ar', 'a', 'prototyp', 'support', 'property', 's', 'purpos', 'sometim', 'out', 'thi', 'malicy', 'test', 'in', 'for', 'mak', 'funct', 'task', 'ov', 'ther', 'enh', 'peopl', 'scripts', 'be', '.', 'desktop-like', 'with', 'brows', 'many', '”', 'websit', 'from', 'choos', 'without']\n"
     ]
    }
   ],
   "source": [
    "words = []\n",
    "classes = []\n",
    "documents = []\n",
    "ignore_words = ['?']\n",
    "# loop through each sentence in our training data\n",
    "for pattern in training_data:\n",
    "    # tokenize each word in the sentence\n",
    "    w = nltk.word_tokenize(pattern['sentence'])\n",
    "    # add to our words list\n",
    "    words.extend(w)\n",
    "    # add to documents in our corpus\n",
    "    documents.append((w, pattern['class']))\n",
    "    # add to our classes list\n",
    "    if pattern['class'] not in classes:\n",
    "        classes.append(pattern['class'])\n",
    "\n",
    "# stem and lower each word and remove duplicates\n",
    "words = [stemmer.stem(w.lower()) for w in words if w not in ignore_words]\n",
    "words = list(set(words))\n",
    "\n",
    "# remove duplicates\n",
    "classes = list(set(classes))\n",
    "\n",
    "print (len(documents), \"documents\")\n",
    "print (len(classes), \"classes\", classes)\n",
    "print (len(words), \"unique stemmed words\", words)"
   ]
  },
  {
   "cell_type": "code",
   "execution_count": null,
   "metadata": {},
   "outputs": [],
   "source": []
  }
 ],
 "metadata": {
  "kernelspec": {
   "display_name": "Python 3",
   "language": "python",
   "name": "python3"
  },
  "language_info": {
   "codemirror_mode": {
    "name": "ipython",
    "version": 3
   },
   "file_extension": ".py",
   "mimetype": "text/x-python",
   "name": "python",
   "nbconvert_exporter": "python",
   "pygments_lexer": "ipython3",
   "version": "3.6.5"
  }
 },
 "nbformat": 4,
 "nbformat_minor": 2
}
